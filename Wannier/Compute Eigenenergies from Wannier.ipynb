{
 "cells": [
  {
   "cell_type": "code",
   "execution_count": 1,
   "metadata": {},
   "outputs": [
    {
     "name": "stdout",
     "output_type": "stream",
     "text": [
      "Populating the interactive namespace from numpy and matplotlib\n"
     ]
    },
    {
     "name": "stderr",
     "output_type": "stream",
     "text": [
      "/Users/Zack/anaconda/envs/conda36/lib/python3.6/site-packages/matplotlib/__init__.py:1405: UserWarning: \n",
      "This call to matplotlib.use() has no effect because the backend has already\n",
      "been chosen; matplotlib.use() must be called *before* pylab, matplotlib.pyplot,\n",
      "or matplotlib.backends is imported for the first time.\n",
      "\n",
      "  warnings.warn(_use_error_msg)\n"
     ]
    },
    {
     "data": {
      "text/html": [
       "<style>.container { width:100% !important; }</style>"
      ],
      "text/plain": [
       "<IPython.core.display.HTML object>"
      ]
     },
     "metadata": {},
     "output_type": "display_data"
    }
   ],
   "source": [
    "%pylab inline\n",
    "import sys, os\n",
    "import QuickPlot\n",
    "import matplotlib.pylab as pylab\n",
    "pylab.rcParams['figure.figsize'] = 8, 6  # that's default image size for this interactive session\n",
    "from IPython.core.display import display, HTML\n",
    "display(HTML(\"<style>.container { width:100% !important; }</style>\"))\n",
    "from ipywidgets.widgets import interactive, fixed, interact\n",
    "%config InlineBackend.figure_format = 'retina'"
   ]
  },
  {
   "cell_type": "code",
   "execution_count": 10,
   "metadata": {},
   "outputs": [
    {
     "name": "stdout",
     "output_type": "stream",
     "text": [
      "(17856, 7)\n"
     ]
    }
   ],
   "source": [
    "hr = genfromtxt('NiO_hr.dat', skip_header=22)\n",
    "print(hr.shape)"
   ]
  },
  {
   "cell_type": "code",
   "execution_count": 11,
   "metadata": {},
   "outputs": [],
   "source": [
    "# This reads the hamiltonian elements for a specific unit cell coordinate.  \n",
    "# Wannier90 reports them by unit cell (x,y,z, i,j) where (1,0,0, 1,1) is the overlap of\n",
    "# wavefunction 1 in the 0,0,0 cell with wavefunction 1 translated by one unit cell in the x direction.\n",
    "def GetOneCell(x,y,z):\n",
    "    hrtrim = hr[(hr[:,0]==x) & (hr[:,1]==y) & (hr[:,2]==z)]\n",
    "    hrtrim = hrtrim[:,3:]\n",
    "    H = np.zeros((8,8), dtype='complex')\n",
    "    for r in hrtrim[:]:\n",
    "        i = int(r[0])-1\n",
    "        j = int(r[1])-1\n",
    "        overlap = complex(r[2], r[3])\n",
    "        H[i, j] = overlap\n",
    "    return H\n"
   ]
  },
  {
   "cell_type": "code",
   "execution_count": 12,
   "metadata": {},
   "outputs": [
    {
     "name": "stdout",
     "output_type": "stream",
     "text": [
      "[ 10.82645182 -5.75837398e-16j  10.82778016 -4.28947938e-16j\n",
      "  10.82732174 -8.46326285e-16j  13.82136642 +4.25342641e-17j\n",
      "  13.82057484 +2.94782951e-16j  13.57947358 +1.38536426e-15j\n",
      "  13.58115549 -1.63569424e-15j  13.58040296 -1.00492796e-15j]\n"
     ]
    }
   ],
   "source": [
    "# Print the eigenvalues for just the consideration of one unit cell.\n",
    "H = GetOneCell(0,0,0)\n",
    "print(eig(H)[0])"
   ]
  },
  {
   "cell_type": "code",
   "execution_count": 13,
   "metadata": {},
   "outputs": [
    {
     "name": "stdout",
     "output_type": "stream",
     "text": [
      "[ 10.27226110 +9.96714859e-16j  10.27084844 +7.00582207e-16j\n",
      "  11.29528462 +8.60729761e-16j  14.49484033 -8.61192853e-17j\n",
      "  14.49292364 -5.26749628e-16j  13.26279285 -1.45946758e-15j\n",
      "  13.26655856 -3.65687579e-17j  13.83063147 +1.32766894e-15j]\n"
     ]
    }
   ],
   "source": [
    "# Now do the same but considering the 6 nearest neighbors.\n",
    "H = GetOneCell(0,0,0)\n",
    "\n",
    "H += GetOneCell(1,0,0)\n",
    "H += GetOneCell(0,1,0)\n",
    "H += GetOneCell(0,0,1)\n",
    "H += GetOneCell(-1,0,0)\n",
    "H += GetOneCell(0,-1,0)\n",
    "H += GetOneCell(0,0,-1)\n",
    "\n",
    "print(eig(H)[0])"
   ]
  },
  {
   "cell_type": "code",
   "execution_count": 14,
   "metadata": {},
   "outputs": [
    {
     "name": "stdout",
     "output_type": "stream",
     "text": [
      "[ 13.32768716 +1.23611329e-16j  13.33084012 +2.79505415e-16j\n",
      "  13.03345671 -8.98853128e-16j  12.96499531 +3.52657773e-16j\n",
      "  12.96381012 +8.11242317e-16j  11.50521747 -3.80358771e-16j\n",
      "  11.50449025 -3.68450604e-16j  11.50476785 +1.92047443e-16j]\n"
     ]
    }
   ],
   "source": [
    "# Now build it using every element.\n",
    "H = np.zeros((8,8), dtype='complex')\n",
    "for r in hr[:]:\n",
    "    x = int(r[0])\n",
    "    y = int(r[1])\n",
    "    z = int(r[2])\n",
    "    i = int(r[3])-1\n",
    "    j = int(r[4])-1\n",
    "    overlap = complex(r[5], r[6])\n",
    "    H[i, j] += overlap\n",
    "\n",
    "print(eig(H)[0])\n",
    "\n",
    " "
   ]
  },
  {
   "cell_type": "code",
   "execution_count": 47,
   "metadata": {},
   "outputs": [
    {
     "name": "stdout",
     "output_type": "stream",
     "text": [
      "Energy = 13.33 eV\n",
      "psi=(0.60, 0.39, 0.00, 0.00, 0.00, 0.00, 0.00, 0.00, )\n",
      "Energy = 13.33 eV\n",
      "psi=(0.00, 0.00, 0.10, 0.45, 0.44, 0.00, 0.00, 0.00, )\n",
      "Energy = 13.03 eV\n",
      "psi=(0.00, 0.00, 0.58, 0.14, 0.27, 0.00, 0.00, 0.00, )\n",
      "Energy = 12.96 eV\n",
      "psi=(0.39, 0.60, 0.00, 0.00, 0.00, 0.00, 0.00, 0.00, )\n",
      "Energy = 12.96 eV\n",
      "psi=(0.00, 0.00, 0.25, 0.39, 0.35, 0.00, 0.00, 0.00, )\n",
      "Energy = 11.51 eV\n",
      "psi=(0.00, 0.00, 0.00, 0.00, 0.00, 0.30, 0.40, 0.30, )\n",
      "Energy = 11.50 eV\n",
      "psi=(0.00, 0.00, 0.00, 0.00, 0.00, 0.28, 0.38, 0.34, )\n",
      "Energy = 11.50 eV\n",
      "psi=(0.00, 0.00, 0.00, 0.00, 0.00, 0.43, 0.19, 0.38, )\n"
     ]
    }
   ],
   "source": [
    "# Print out the energy levels from greatest to least, \n",
    "# along with <psi_m|psi_n> so we can see what orbitals\n",
    "# they represent.\n",
    "E = linalg.eig(H)[0]\n",
    "psi = linalg.eig(H)[1]\n",
    "\n",
    "for i in range(len(E)):\n",
    "    print(f'Energy = {np.abs(E[i]):0.2f} eV')\n",
    "    print(f'psi=(', end='')\n",
    "    normval=np.abs(psi[i]).sum()\n",
    "    for j in range(len(E)):\n",
    "        print(f'{np.abs(psi[i][j])/normval:0.2f}, ', end='')\n",
    "    print(')')"
   ]
  },
  {
   "cell_type": "code",
   "execution_count": null,
   "metadata": {
    "collapsed": true
   },
   "outputs": [],
   "source": []
  }
 ],
 "metadata": {
  "kernelspec": {
   "display_name": "Python 3",
   "language": "python",
   "name": "python3"
  },
  "language_info": {
   "codemirror_mode": {
    "name": "ipython",
    "version": 3
   },
   "file_extension": ".py",
   "mimetype": "text/x-python",
   "name": "python",
   "nbconvert_exporter": "python",
   "pygments_lexer": "ipython3",
   "version": "3.6.1"
  }
 },
 "nbformat": 4,
 "nbformat_minor": 2
}
